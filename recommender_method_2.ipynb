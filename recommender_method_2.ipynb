{
 "cells": [
  {
   "cell_type": "code",
   "execution_count": 1,
   "metadata": {},
   "outputs": [],
   "source": [
    "import pandas as pd\n",
    "import numpy as np"
   ]
  },
  {
   "cell_type": "code",
   "execution_count": 2,
   "metadata": {},
   "outputs": [],
   "source": [
    "news = pd.read_csv('news.csv')"
   ]
  },
  {
   "cell_type": "code",
   "execution_count": 3,
   "metadata": {},
   "outputs": [],
   "source": [
    "#Import TfIdfVectorizer from scikit-learn\n",
    "from sklearn.feature_extraction.text import TfidfVectorizer"
   ]
  },
  {
   "cell_type": "code",
   "execution_count": 4,
   "metadata": {},
   "outputs": [],
   "source": [
    "tfidf = TfidfVectorizer(min_df=3,  max_features=None, \n",
    "            strip_accents='unicode', analyzer='word',token_pattern=r'\\w{1,}',\n",
    "            ngram_range=(1, 3), use_idf=1,smooth_idf=1,sublinear_tf=1,\n",
    "            stop_words = 'english')"
   ]
  },
  {
   "cell_type": "code",
   "execution_count": 5,
   "metadata": {},
   "outputs": [],
   "source": [
    "#Replace NaN with an empty string\n",
    "news['short_description'] = news['short_description'].fillna('')"
   ]
  },
  {
   "cell_type": "code",
   "execution_count": 6,
   "metadata": {},
   "outputs": [],
   "source": [
    "#Construct the required TF-IDF matrix by fitting and transforming the data\n",
    "tfidf_matrix = tfidf.fit_transform(news['short_description'])"
   ]
  },
  {
   "cell_type": "markdown",
   "metadata": {},
   "source": [
    "# Method 2: Based on Similarity between Aricle Description"
   ]
  },
  {
   "cell_type": "code",
   "execution_count": 7,
   "metadata": {},
   "outputs": [],
   "source": [
    "article_index = news['article_id']"
   ]
  },
  {
   "cell_type": "code",
   "execution_count": 8,
   "metadata": {},
   "outputs": [],
   "source": [
    "# Import linear_kernel\n",
    "from sklearn.metrics.pairwise import linear_kernel"
   ]
  },
  {
   "cell_type": "code",
   "execution_count": 12,
   "metadata": {},
   "outputs": [],
   "source": [
    "def get_similar_news(article_id, n_recommendations=5, print_results=True):\n",
    "    start_ind = article_index[article_index==article_id].index[0]\n",
    "    end_ind = start_ind + 1\n",
    "    cosine_sim = linear_kernel(tfidf_matrix[start_ind:end_ind,:], tfidf_matrix)\n",
    "    results = news.loc[cosine_sim.argsort().flatten()[:-n_recommendations-1:-1]]\n",
    "    if print_results:\n",
    "        for i, row in results.iterrows():\n",
    "            print('Article ID: {}\\nShort Description: {}\\n'.format(row['article_id'], row['short_description']))\n",
    "    return results"
   ]
  },
  {
   "cell_type": "code",
   "execution_count": 13,
   "metadata": {},
   "outputs": [
    {
     "name": "stdout",
     "output_type": "stream",
     "text": [
      "Article ID: content_0\n",
      "Short Description: It's about to be a lot easier for kids in Mike Pence's home state to read “A Day in the Life of Marlon Bundo.”\n",
      "\n",
      "Article ID: content_2009\n",
      "Short Description: That's a lot of popcorn.\n",
      "\n",
      "Article ID: content_5493\n",
      "Short Description: John Oliver's \"Last Week Tonight\" team beats Mike Pence in battle of the Bundo bunnies.\n",
      "\n",
      "Article ID: content_4542\n",
      "Short Description: \"A Day In the Life of Marlon Bundo,\" the comedian says, paints the world in an inclusive light.\n",
      "\n",
      "Article ID: content_6869\n",
      "Short Description: She and Mike Pence had a \"great conversation,\" however.\n",
      "\n",
      "Article ID: content_2315\n",
      "Short Description: \"Mike Pence looks a lot more like a president than you do.\"\n",
      "\n",
      "Article ID: content_5658\n",
      "Short Description: \"There's a lot there, and that's the sad truth.\"\n",
      "\n",
      "Article ID: content_3765\n",
      "Short Description: \"Why does Mike Pence want to kill this investigation?” asked Joe Scarborough.\n",
      "\n",
      "Article ID: content_3521\n",
      "Short Description: \"There’s a lot more rage and a lot more anger in this march.\"\n",
      "\n",
      "Article ID: content_2036\n",
      "Short Description: The horror master also took on \"creepy\" Mike Pence: \"He has that look.\"\n",
      "\n"
     ]
    }
   ],
   "source": [
    "sample_recommendation = get_similar_news('content_0', 10)"
   ]
  }
 ],
 "metadata": {
  "kernelspec": {
   "display_name": "Python 3",
   "language": "python",
   "name": "python3"
  },
  "language_info": {
   "codemirror_mode": {
    "name": "ipython",
    "version": 3
   },
   "file_extension": ".py",
   "mimetype": "text/x-python",
   "name": "python",
   "nbconvert_exporter": "python",
   "pygments_lexer": "ipython3",
   "version": "3.7.6"
  }
 },
 "nbformat": 4,
 "nbformat_minor": 4
}
